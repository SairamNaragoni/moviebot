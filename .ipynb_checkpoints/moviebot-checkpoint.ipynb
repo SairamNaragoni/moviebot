{
 "cells": [
  {
   "cell_type": "code",
   "execution_count": 1,
   "metadata": {
    "id": "bq_ff26aixKf"
   },
   "outputs": [
    {
     "ename": "ModuleNotFoundError",
     "evalue": "No module named 'tensorflow'",
     "output_type": "error",
     "traceback": [
      "\u001b[1;31m---------------------------------------------------------------------------\u001b[0m",
      "\u001b[1;31mModuleNotFoundError\u001b[0m                       Traceback (most recent call last)",
      "\u001b[1;32m<ipython-input-1-d87e7d7f7672>\u001b[0m in \u001b[0;36m<module>\u001b[1;34m\u001b[0m\n\u001b[1;32m----> 1\u001b[1;33m \u001b[1;32mimport\u001b[0m \u001b[0mtensorflow\u001b[0m \u001b[1;32mas\u001b[0m \u001b[0mtf\u001b[0m\u001b[1;33m\u001b[0m\u001b[1;33m\u001b[0m\u001b[0m\n\u001b[0m\u001b[0;32m      2\u001b[0m \u001b[1;32mimport\u001b[0m \u001b[0mnumpy\u001b[0m \u001b[1;32mas\u001b[0m \u001b[0mnp\u001b[0m\u001b[1;33m\u001b[0m\u001b[1;33m\u001b[0m\u001b[0m\n\u001b[0;32m      3\u001b[0m \u001b[1;32mimport\u001b[0m \u001b[0mpandas\u001b[0m \u001b[1;32mas\u001b[0m \u001b[0mpd\u001b[0m\u001b[1;33m\u001b[0m\u001b[1;33m\u001b[0m\u001b[0m\n\u001b[0;32m      4\u001b[0m \u001b[1;32mimport\u001b[0m \u001b[0mre\u001b[0m\u001b[1;33m\u001b[0m\u001b[1;33m\u001b[0m\u001b[0m\n\u001b[0;32m      5\u001b[0m \u001b[1;32mimport\u001b[0m \u001b[0mrandom\u001b[0m\u001b[1;33m\u001b[0m\u001b[1;33m\u001b[0m\u001b[0m\n",
      "\u001b[1;31mModuleNotFoundError\u001b[0m: No module named 'tensorflow'"
     ]
    }
   ],
   "source": [
    "import tensorflow as tf\n",
    "import numpy as np\n",
    "import pandas as pd\n",
    "import re\n",
    "import random\n",
    "from nltk import ngrams\n",
    "from tensorflow.keras.layers.experimental.preprocessing import TextVectorization\n",
    "import string\n",
    "import re"
   ]
  },
  {
   "cell_type": "markdown",
   "metadata": {
    "id": "BtwUHul1t1Jc"
   },
   "source": [
    "* First Name & Last Name Check - bigrams !!\n",
    "* spell check\n",
    "* Prepare dataset to extract actors and directors based on verbs"
   ]
  },
  {
   "cell_type": "code",
   "execution_count": 2,
   "metadata": {
    "id": "KnsjByBjWsks"
   },
   "outputs": [],
   "source": [
    "file_path = 'drive/MyDrive/Colab Notebooks/moviedata.csv'\n",
    "root_path = 'drive/MyDrive/Colab Notebooks/'"
   ]
  },
  {
   "cell_type": "code",
   "execution_count": 3,
   "metadata": {
    "id": "nNTecyL9jFEA"
   },
   "outputs": [],
   "source": [
    "df = pd.read_csv(file_path)\n",
    "df = df[['Rank','Title','Genre','Director','Actors']]"
   ]
  },
  {
   "cell_type": "code",
   "execution_count": 4,
   "metadata": {
    "colab": {
     "base_uri": "https://localhost:8080/"
    },
    "id": "OuqOiAVQkSrx",
    "outputId": "a69e8c74-5468-4861-f971-193c2af8dc96"
   },
   "outputs": [
    {
     "name": "stdout",
     "output_type": "stream",
     "text": [
      "Found 20 genres\n",
      "Found 644 directors\n",
      "Found 1985 actors\n"
     ]
    }
   ],
   "source": [
    "genres = set()\n",
    "directors = set()\n",
    "actors = set()\n",
    "for index,row in df.iterrows():\n",
    "  entry = row[\"Genre\"]\n",
    "  for e in entry.split(\",\"):\n",
    "    genres.add(e.lower().strip())\n",
    "  entry = row[\"Director\"]\n",
    "  for e in entry.split(\",\"):\n",
    "    directors.add(e.lower().strip())\n",
    "  entry = row[\"Actors\"]\n",
    "  for e in entry.split(\",\"):\n",
    "    actors.add(e.lower().strip())\n",
    "print(\"Found %d genres\"%len(genres))\n",
    "print(\"Found %d directors\"%len(directors))\n",
    "print(\"Found %d actors\"%len(actors))"
   ]
  },
  {
   "cell_type": "code",
   "execution_count": 5,
   "metadata": {
    "colab": {
     "base_uri": "https://localhost:8080/"
    },
    "id": "AIPJrH_Slum0",
    "outputId": "ba81ea7d-2054-442c-f772-d7bccd9202e2"
   },
   "outputs": [
    {
     "data": {
      "text/plain": [
       "(array([['war', '0'],\n",
       "        ['sci-fi', '0'],\n",
       "        ['history', '0'],\n",
       "        ...,\n",
       "        ['kirsten sheridan', '2'],\n",
       "        ['joe carnahan', '2'],\n",
       "        ['ben wheatley', '2']], dtype='<U32'), 2649)"
      ]
     },
     "execution_count": 5,
     "metadata": {
      "tags": []
     },
     "output_type": "execute_result"
    }
   ],
   "source": [
    "training_data = []\n",
    "for entry in genres:\n",
    "  training_data.append([entry,0])\n",
    "for entry in actors:\n",
    "  training_data.append([entry,1])\n",
    "for entry in directors:\n",
    "  training_data.append([entry,2])\n",
    "training_data = np.array(training_data)\n",
    "training_data,len(training_data)"
   ]
  },
  {
   "cell_type": "code",
   "execution_count": 6,
   "metadata": {
    "id": "sgHCQVsapZJO"
   },
   "outputs": [],
   "source": [
    "batch_size = 32\n",
    "batch_constant = int(len(training_data)/batch_size)\n",
    "epochs = 10\n",
    "learning_rate = 0.0005\n",
    "dropout = 0.3\n",
    "max_features = 1000\n",
    "embedding_dim = 128\n",
    "sequence_length = 1\n",
    "vectorize_layer = TextVectorization(\n",
    "    max_tokens=max_features,\n",
    "    output_mode=\"int\",\n",
    "    output_sequence_length=sequence_length,\n",
    ")\n",
    "vectorize_layer.adapt(training_data[:,0])"
   ]
  },
  {
   "cell_type": "code",
   "execution_count": 7,
   "metadata": {
    "id": "VGIVehDg7Wog"
   },
   "outputs": [],
   "source": [
    "X_tr = training_data[:batch_constant*batch_size,0]\n",
    "Y_tr = training_data[:batch_constant*batch_size,1].astype('int')"
   ]
  },
  {
   "cell_type": "code",
   "execution_count": 8,
   "metadata": {
    "id": "OXq3iG1vET_3"
   },
   "outputs": [],
   "source": [
    "from tensorflow.keras import layers\n",
    "from tensorflow.keras.optimizers import Adam\n",
    "\n",
    "text_input = tf.keras.Input(shape=(1,), dtype=tf.string, name='text')\n",
    "x = vectorize_layer(text_input)\n",
    "x = layers.Embedding(max_features + 1, embedding_dim)(x)\n",
    "x = layers.Dropout(dropout)(x)\n",
    "\n",
    "# Conv1D + global max pooling\n",
    "x = layers.Conv1D(embedding_dim, 1, padding=\"valid\", activation=\"relu\", strides=3)(x)\n",
    "x = layers.Conv1D(embedding_dim, 1, padding=\"valid\", activation=\"relu\", strides=3)(x)\n",
    "x = layers.GlobalMaxPooling1D()(x)\n",
    "\n",
    "# We add a vanilla hidden layer:\n",
    "x = layers.Dense(embedding_dim, activation=\"relu\")(x)\n",
    "x = layers.Dropout(dropout)(x)\n",
    "\n",
    "# We project onto a single unit output layer, and squash it with a sigmoid:\n",
    "y_pred = layers.Dense(3, activation=\"sigmoid\", name=\"predictions\")(x)\n",
    "\n",
    "model = tf.keras.Model(text_input, y_pred)\n",
    "\n",
    "# Compile the model with binary crossentropy loss and an adam optimizer.\n",
    "model.compile(loss=\"sparse_categorical_crossentropy\", optimizer=Adam(lr=learning_rate), metrics=[\"accuracy\"])"
   ]
  },
  {
   "cell_type": "code",
   "execution_count": 9,
   "metadata": {
    "id": "957a0TO0b3ql"
   },
   "outputs": [],
   "source": [
    "# model.fit(np.array(X_tr),Y_tr, batch_size=batch_size,epochs=epochs,verbose=1)"
   ]
  },
  {
   "cell_type": "code",
   "execution_count": 10,
   "metadata": {
    "id": "ULAR2nb2Ejql"
   },
   "outputs": [],
   "source": [
    "# model.predict([\"vin diesel\"])"
   ]
  },
  {
   "cell_type": "code",
   "execution_count": 11,
   "metadata": {
    "id": "XUu4kXrJoTRn"
   },
   "outputs": [],
   "source": [
    "data = df.copy()\n",
    "data=data.set_index(data.columns.drop('Genre',1).tolist()).Genre.str.split(',', expand=True).stack().reset_index().rename(columns={0:'Genre'}).loc[:, data.columns]\n",
    "data=data.set_index(data.columns.drop('Director',1).tolist()).Director.str.split(',', expand=True).stack().reset_index().rename(columns={0:'Director'}).loc[:, data.columns]\n",
    "data=data.set_index(data.columns.drop('Actors',1).tolist()).Actors.str.split(',', expand=True).stack().reset_index().rename(columns={0:'Actors'}).loc[:, data.columns]"
   ]
  },
  {
   "cell_type": "code",
   "execution_count": 12,
   "metadata": {
    "colab": {
     "base_uri": "https://localhost:8080/",
     "height": 402
    },
    "id": "qqaHx15h7XUZ",
    "outputId": "c973eb46-9ab6-43e4-9973-dcf7c3c3801b"
   },
   "outputs": [
    {
     "data": {
      "text/html": [
       "<div>\n",
       "<style scoped>\n",
       "    .dataframe tbody tr th:only-of-type {\n",
       "        vertical-align: middle;\n",
       "    }\n",
       "\n",
       "    .dataframe tbody tr th {\n",
       "        vertical-align: top;\n",
       "    }\n",
       "\n",
       "    .dataframe thead th {\n",
       "        text-align: right;\n",
       "    }\n",
       "</style>\n",
       "<table border=\"1\" class=\"dataframe\">\n",
       "  <thead>\n",
       "    <tr style=\"text-align: right;\">\n",
       "      <th></th>\n",
       "      <th>Rank</th>\n",
       "      <th>Title</th>\n",
       "      <th>Genre</th>\n",
       "      <th>Director</th>\n",
       "      <th>Actors</th>\n",
       "    </tr>\n",
       "  </thead>\n",
       "  <tbody>\n",
       "    <tr>\n",
       "      <th>0</th>\n",
       "      <td>1</td>\n",
       "      <td>Guardians of the Galaxy</td>\n",
       "      <td>Action</td>\n",
       "      <td>James Gunn</td>\n",
       "      <td>Chris Pratt</td>\n",
       "    </tr>\n",
       "    <tr>\n",
       "      <th>1</th>\n",
       "      <td>1</td>\n",
       "      <td>Guardians of the Galaxy</td>\n",
       "      <td>Action</td>\n",
       "      <td>James Gunn</td>\n",
       "      <td>Vin Diesel</td>\n",
       "    </tr>\n",
       "    <tr>\n",
       "      <th>2</th>\n",
       "      <td>1</td>\n",
       "      <td>Guardians of the Galaxy</td>\n",
       "      <td>Action</td>\n",
       "      <td>James Gunn</td>\n",
       "      <td>Bradley Cooper</td>\n",
       "    </tr>\n",
       "    <tr>\n",
       "      <th>3</th>\n",
       "      <td>1</td>\n",
       "      <td>Guardians of the Galaxy</td>\n",
       "      <td>Action</td>\n",
       "      <td>James Gunn</td>\n",
       "      <td>Zoe Saldana</td>\n",
       "    </tr>\n",
       "    <tr>\n",
       "      <th>4</th>\n",
       "      <td>1</td>\n",
       "      <td>Guardians of the Galaxy</td>\n",
       "      <td>Adventure</td>\n",
       "      <td>James Gunn</td>\n",
       "      <td>Chris Pratt</td>\n",
       "    </tr>\n",
       "    <tr>\n",
       "      <th>...</th>\n",
       "      <td>...</td>\n",
       "      <td>...</td>\n",
       "      <td>...</td>\n",
       "      <td>...</td>\n",
       "      <td>...</td>\n",
       "    </tr>\n",
       "    <tr>\n",
       "      <th>10213</th>\n",
       "      <td>1000</td>\n",
       "      <td>Nine Lives</td>\n",
       "      <td>Family</td>\n",
       "      <td>Barry Sonnenfeld</td>\n",
       "      <td>Cheryl Hines</td>\n",
       "    </tr>\n",
       "    <tr>\n",
       "      <th>10214</th>\n",
       "      <td>1000</td>\n",
       "      <td>Nine Lives</td>\n",
       "      <td>Fantasy</td>\n",
       "      <td>Barry Sonnenfeld</td>\n",
       "      <td>Kevin Spacey</td>\n",
       "    </tr>\n",
       "    <tr>\n",
       "      <th>10215</th>\n",
       "      <td>1000</td>\n",
       "      <td>Nine Lives</td>\n",
       "      <td>Fantasy</td>\n",
       "      <td>Barry Sonnenfeld</td>\n",
       "      <td>Jennifer Garner</td>\n",
       "    </tr>\n",
       "    <tr>\n",
       "      <th>10216</th>\n",
       "      <td>1000</td>\n",
       "      <td>Nine Lives</td>\n",
       "      <td>Fantasy</td>\n",
       "      <td>Barry Sonnenfeld</td>\n",
       "      <td>Robbie Amell</td>\n",
       "    </tr>\n",
       "    <tr>\n",
       "      <th>10217</th>\n",
       "      <td>1000</td>\n",
       "      <td>Nine Lives</td>\n",
       "      <td>Fantasy</td>\n",
       "      <td>Barry Sonnenfeld</td>\n",
       "      <td>Cheryl Hines</td>\n",
       "    </tr>\n",
       "  </tbody>\n",
       "</table>\n",
       "<p>10218 rows × 5 columns</p>\n",
       "</div>"
      ],
      "text/plain": [
       "       Rank                    Title  ...          Director            Actors\n",
       "0         1  Guardians of the Galaxy  ...        James Gunn       Chris Pratt\n",
       "1         1  Guardians of the Galaxy  ...        James Gunn        Vin Diesel\n",
       "2         1  Guardians of the Galaxy  ...        James Gunn    Bradley Cooper\n",
       "3         1  Guardians of the Galaxy  ...        James Gunn       Zoe Saldana\n",
       "4         1  Guardians of the Galaxy  ...        James Gunn       Chris Pratt\n",
       "...     ...                      ...  ...               ...               ...\n",
       "10213  1000               Nine Lives  ...  Barry Sonnenfeld      Cheryl Hines\n",
       "10214  1000               Nine Lives  ...  Barry Sonnenfeld      Kevin Spacey\n",
       "10215  1000               Nine Lives  ...  Barry Sonnenfeld   Jennifer Garner\n",
       "10216  1000               Nine Lives  ...  Barry Sonnenfeld      Robbie Amell\n",
       "10217  1000               Nine Lives  ...  Barry Sonnenfeld      Cheryl Hines\n",
       "\n",
       "[10218 rows x 5 columns]"
      ]
     },
     "execution_count": 12,
     "metadata": {
      "tags": []
     },
     "output_type": "execute_result"
    }
   ],
   "source": [
    "data"
   ]
  },
  {
   "cell_type": "code",
   "execution_count": 13,
   "metadata": {
    "colab": {
     "base_uri": "https://localhost:8080/"
    },
    "id": "g7vQ_16PztMi",
    "outputId": "8a022990-58ae-4613-8456-6d0c69d3780a"
   },
   "outputs": [
    {
     "name": "stderr",
     "output_type": "stream",
     "text": [
      "/usr/local/lib/python3.7/dist-packages/ipykernel_launcher.py:3: SettingWithCopyWarning: \n",
      "A value is trying to be set on a copy of a slice from a DataFrame.\n",
      "Try using .loc[row_indexer,col_indexer] = value instead\n",
      "\n",
      "See the caveats in the documentation: https://pandas.pydata.org/pandas-docs/stable/user_guide/indexing.html#returning-a-view-versus-a-copy\n",
      "  This is separate from the ipykernel package so we can avoid doing imports until\n"
     ]
    }
   ],
   "source": [
    "data[\"Query\"] = data[\"Genre\"].str.cat(data[[\"Director\", \"Actors\"]].astype(str), sep=\" \")\n",
    "training_data = data[[\"Title\", \"Query\"]]\n",
    "training_data[\"similarity\"] = 1"
   ]
  },
  {
   "cell_type": "code",
   "execution_count": null,
   "metadata": {
    "colab": {
     "base_uri": "https://localhost:8080/"
    },
    "id": "FO6rRnyV8L2Y",
    "outputId": "7b07d3bf-239f-4d40-c2a1-f2670e5a6fce"
   },
   "outputs": [
    {
     "name": "stdout",
     "output_type": "stream",
     "text": [
      "Iteration : 13036\n"
     ]
    }
   ],
   "source": [
    "import sys\n",
    "from IPython.display import clear_output \n",
    "\n",
    "movies = set(df['Title'])\n",
    "queries = set(data['Query'])\n",
    "i = 0\n",
    "for query in queries:\n",
    "  for movie in movies:\n",
    "    if not ((training_data['Title'] == movie) & (training_data['Query'] == query)).any():\n",
    "      training_data.loc[len(training_data)] = [movie,query,0]\n",
    "    i += 1\n",
    "    clear_output()\n",
    "    print(\"Iteration : %d\"% i, flush=True) "
   ]
  },
  {
   "cell_type": "code",
   "execution_count": 93,
   "metadata": {
    "colab": {
     "base_uri": "https://localhost:8080/",
     "height": 402
    },
    "id": "-Cko-YEg-7VS",
    "outputId": "308430df-cbfc-42a8-9d40-46f1f424bb3e"
   },
   "outputs": [
    {
     "data": {
      "text/html": [
       "<div>\n",
       "<style scoped>\n",
       "    .dataframe tbody tr th:only-of-type {\n",
       "        vertical-align: middle;\n",
       "    }\n",
       "\n",
       "    .dataframe tbody tr th {\n",
       "        vertical-align: top;\n",
       "    }\n",
       "\n",
       "    .dataframe thead th {\n",
       "        text-align: right;\n",
       "    }\n",
       "</style>\n",
       "<table border=\"1\" class=\"dataframe\">\n",
       "  <thead>\n",
       "    <tr style=\"text-align: right;\">\n",
       "      <th></th>\n",
       "      <th>Title</th>\n",
       "      <th>Query</th>\n",
       "      <th>similarity</th>\n",
       "    </tr>\n",
       "  </thead>\n",
       "  <tbody>\n",
       "    <tr>\n",
       "      <th>0</th>\n",
       "      <td>Guardians of the Galaxy</td>\n",
       "      <td>Action James Gunn Chris Pratt</td>\n",
       "      <td>1</td>\n",
       "    </tr>\n",
       "    <tr>\n",
       "      <th>1</th>\n",
       "      <td>Guardians of the Galaxy</td>\n",
       "      <td>Action James Gunn  Vin Diesel</td>\n",
       "      <td>1</td>\n",
       "    </tr>\n",
       "    <tr>\n",
       "      <th>2</th>\n",
       "      <td>Guardians of the Galaxy</td>\n",
       "      <td>Action James Gunn  Bradley Cooper</td>\n",
       "      <td>1</td>\n",
       "    </tr>\n",
       "    <tr>\n",
       "      <th>3</th>\n",
       "      <td>Guardians of the Galaxy</td>\n",
       "      <td>Action James Gunn  Zoe Saldana</td>\n",
       "      <td>1</td>\n",
       "    </tr>\n",
       "    <tr>\n",
       "      <th>4</th>\n",
       "      <td>Guardians of the Galaxy</td>\n",
       "      <td>Adventure James Gunn Chris Pratt</td>\n",
       "      <td>1</td>\n",
       "    </tr>\n",
       "    <tr>\n",
       "      <th>...</th>\n",
       "      <td>...</td>\n",
       "      <td>...</td>\n",
       "      <td>...</td>\n",
       "    </tr>\n",
       "    <tr>\n",
       "      <th>57000</th>\n",
       "      <td>3 Days to Kill</td>\n",
       "      <td>Horror Steven R. Monroe Daniel Franzese</td>\n",
       "      <td>0</td>\n",
       "    </tr>\n",
       "    <tr>\n",
       "      <th>57001</th>\n",
       "      <td>Café Society</td>\n",
       "      <td>Horror Steven R. Monroe Daniel Franzese</td>\n",
       "      <td>0</td>\n",
       "    </tr>\n",
       "    <tr>\n",
       "      <th>57002</th>\n",
       "      <td>Blood Father</td>\n",
       "      <td>Horror Steven R. Monroe Daniel Franzese</td>\n",
       "      <td>0</td>\n",
       "    </tr>\n",
       "    <tr>\n",
       "      <th>57003</th>\n",
       "      <td>Final Destination 5</td>\n",
       "      <td>Horror Steven R. Monroe Daniel Franzese</td>\n",
       "      <td>0</td>\n",
       "    </tr>\n",
       "    <tr>\n",
       "      <th>57004</th>\n",
       "      <td>Death Proof</td>\n",
       "      <td>Horror Steven R. Monroe Daniel Franzese</td>\n",
       "      <td>0</td>\n",
       "    </tr>\n",
       "  </tbody>\n",
       "</table>\n",
       "<p>57005 rows × 3 columns</p>\n",
       "</div>"
      ],
      "text/plain": [
       "                         Title  ... similarity\n",
       "0      Guardians of the Galaxy  ...          1\n",
       "1      Guardians of the Galaxy  ...          1\n",
       "2      Guardians of the Galaxy  ...          1\n",
       "3      Guardians of the Galaxy  ...          1\n",
       "4      Guardians of the Galaxy  ...          1\n",
       "...                        ...  ...        ...\n",
       "57000           3 Days to Kill  ...          0\n",
       "57001             Café Society  ...          0\n",
       "57002             Blood Father  ...          0\n",
       "57003      Final Destination 5  ...          0\n",
       "57004              Death Proof  ...          0\n",
       "\n",
       "[57005 rows x 3 columns]"
      ]
     },
     "execution_count": 93,
     "metadata": {
      "tags": []
     },
     "output_type": "execute_result"
    }
   ],
   "source": [
    "training_data"
   ]
  },
  {
   "cell_type": "code",
   "execution_count": null,
   "metadata": {
    "id": "6IyY31MZ9c82"
   },
   "outputs": [],
   "source": [
    "training_data.to_csv(root_path+\"movie_prep_data.csv\")"
   ]
  },
  {
   "cell_type": "code",
   "execution_count": null,
   "metadata": {
    "id": "DinK8M8V61gj"
   },
   "outputs": [],
   "source": [
    "((data['Title'] == 'Guardians of the Galaxy') & (data['Query'] == 'Action James Gunn Chris Pratt')).any()"
   ]
  },
  {
   "cell_type": "code",
   "execution_count": 36,
   "metadata": {
    "id": "YyfoN9Misfcb"
   },
   "outputs": [],
   "source": [
    "  text_input = tf.keras.Input(shape=(1,), dtype=tf.string, name='text')\n",
    "x = vectorize_layer(text_input)\n",
    "x = layers.Embedding(max_features + 1, embedding_dim)(x)\n",
    "x = layers.Dropout(dropout)(x)\n",
    "lstm_layer = layers.Bidirectional(tf.keras.layers.LSTM(64, dropout=0.2, recurrent_dropout=0.2))\n",
    "emb = layers.Embedding(max_features + 1, embedding_dim)(x)\n",
    "input1 = tf.keras.Input(shape=(300,))\n",
    "e1 = emb(input1)\n",
    "x1 = lstm_layer(e1)\n",
    "input2 = tf.keras.Input(shape=(300,))\n",
    "e2 = emb(input2)\n",
    "x2 = lstm_layer(e2)\n",
    "mhd = lambda x: tf.keras.backend.abs(x[0] - x[1])\n",
    "merged = tf.keras.layers.Lambda(function=mhd, output_shape=lambda x: x[0],\n",
    "name='L1_distance')([x1, x2])\n",
    "preds = tf.keras.layers.Dense(1, activation='sigmoid')(merged)\n",
    "model = tf.keras.Model(inputs=[input1, input2], outputs=preds)\n",
    "model.compile(loss='mse', optimizer='adam')"
   ]
  },
  {
   "cell_type": "code",
   "execution_count": null,
   "metadata": {
    "id": "QcGo7CBHvvCY"
   },
   "outputs": [],
   "source": []
  }
 ],
 "metadata": {
  "colab": {
   "collapsed_sections": [],
   "name": "moviebot.ipynb",
   "provenance": []
  },
  "kernelspec": {
   "display_name": "Python 3",
   "language": "python",
   "name": "python3"
  }
 },
 "nbformat": 4,
 "nbformat_minor": 1
}
