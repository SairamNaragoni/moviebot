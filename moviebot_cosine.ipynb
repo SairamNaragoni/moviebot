{
  "nbformat": 4,
  "nbformat_minor": 0,
  "metadata": {
    "colab": {
      "name": "moviebot_cosine.ipynb",
      "provenance": [],
      "collapsed_sections": []
    },
    "kernelspec": {
      "name": "python3",
      "display_name": "Python 3"
    }
  },
  "cells": [
    {
      "cell_type": "code",
      "metadata": {
        "id": "XM14KqfhflDm"
      },
      "source": [
        "import tensorflow as tf\n",
        "import numpy as np\n",
        "import pandas as pd\n",
        "import re\n",
        "import random\n",
        "from nltk import ngrams\n",
        "from tensorflow.keras.layers.experimental.preprocessing import TextVectorization\n",
        "import string\n",
        "import re\n",
        "import itertools\n",
        "from tensorflow.keras import Model\n",
        "from tensorflow.keras import Input\n",
        "from tensorflow.keras import layers\n",
        "from tensorflow.keras.optimizers import Adam\n",
        "from tensorflow.keras import Sequential\n",
        "from sklearn.feature_extraction.text import CountVectorizer\n",
        "from sklearn.metrics.pairwise import cosine_similarity"
      ],
      "execution_count": null,
      "outputs": []
    },
    {
      "cell_type": "code",
      "metadata": {
        "id": "SHl3G9B8fySM"
      },
      "source": [
        "file_path = 'drive/MyDrive/Colab Notebooks/moviedata.csv'\n",
        "root_path = 'drive/MyDrive/Colab Notebooks/'"
      ],
      "execution_count": null,
      "outputs": []
    },
    {
      "cell_type": "code",
      "metadata": {
        "id": "EK-XhZm7fz9r"
      },
      "source": [
        "df = pd.read_csv(file_path)\n",
        "df = df[['Rank','Title','Genre','Director','Actors']]"
      ],
      "execution_count": null,
      "outputs": []
    },
    {
      "cell_type": "code",
      "metadata": {
        "id": "Pd6pwnO7f8Y0"
      },
      "source": [
        "def pre_process(text):\n",
        "  text = clean_text(text)\n",
        "  text = remove_spaces(text)\n",
        "  return text\n",
        "\n",
        "def remove_spaces(text):\n",
        "  text = re.sub(r\" \",\"\",text)\n",
        "  return text\n",
        "\n",
        "def replace_commas(text):\n",
        "  text = re.sub(r\",\",\" \",text)\n",
        "  text = re.sub(r\"[-{}\\\"#/@:;<>+=~()|.!?]\",\"\",text)\n",
        "  return text\n",
        "\n",
        "def clean_text(text):\n",
        "  text = text.lower()\n",
        "  text = re.sub(r\"i'm\", \"i am\", text)\n",
        "  text = re.sub(r\"he's\", \"he is\", text)\n",
        "  text = re.sub(r\"she's\", \"she is\", text)\n",
        "  text = re.sub(r\"that's\", \"that is\", text)\n",
        "  text = re.sub(r\"what's\", \"what is\", text)\n",
        "  text = re.sub(r\"where's\", \"where is\", text)\n",
        "  text = re.sub(r\"\\'ll\", \" will\", text)\n",
        "  text = re.sub(r\"\\'ve\", \" have\", text)\n",
        "  text = re.sub(r\"\\'re\", \" are\", text)\n",
        "  text = re.sub(r\"\\'d\", \" would\", text)\n",
        "  text = re.sub(r\"won't\", \"will not\", text)\n",
        "  text = re.sub(r\"can't\", \"cannot\", text)\n",
        "  text = re.sub(r\"[-{}\\\"#/@:;<>+=~()|.?,]\", \"\", text) \n",
        "  return text"
      ],
      "execution_count": null,
      "outputs": []
    },
    {
      "cell_type": "code",
      "metadata": {
        "colab": {
          "base_uri": "https://localhost:8080/"
        },
        "id": "T6dG4gHkf-jv",
        "outputId": "36b3f5db-a0a7-4fd5-f4b4-c178095cbbc8"
      },
      "source": [
        "genres = set()\n",
        "directors = set()\n",
        "actors = set()\n",
        "for index,row in df.iterrows():\n",
        "  entry = row[\"Genre\"]\n",
        "  for e in entry.split(\",\"):\n",
        "    genres.add(e.lower().strip())\n",
        "  entry = row[\"Director\"]\n",
        "  for e in entry.split(\",\"):\n",
        "    directors.add(e.lower().strip())\n",
        "  entry = row[\"Actors\"]\n",
        "  for e in entry.split(\",\"):\n",
        "    actors.add(e.lower().strip())\n",
        "print(\"Found %d genres\"%len(genres))\n",
        "print(\"Found %d directors\"%len(directors))\n",
        "print(\"Found %d actors\"%len(actors))"
      ],
      "execution_count": null,
      "outputs": [
        {
          "output_type": "stream",
          "text": [
            "Found 20 genres\n",
            "Found 644 directors\n",
            "Found 1985 actors\n"
          ],
          "name": "stdout"
        }
      ]
    },
    {
      "cell_type": "code",
      "metadata": {
        "id": "XlXMyj-QgAZ9"
      },
      "source": [
        "data = df.copy()\n",
        "# data=data.set_index(data.columns.drop('Genre',1).tolist()).Genre.str.split(',', expand=True).stack().reset_index().rename(columns={0:'Genre'}).loc[:, data.columns]\n",
        "# data=data.set_index(data.columns.drop('Director',1).tolist()).Director.str.split(',', expand=True).stack().reset_index().rename(columns={0:'Director'}).loc[:, data.columns]\n",
        "# data=data.set_index(data.columns.drop('Actors',1).tolist()).Actors.str.split(',', expand=True).stack().reset_index().rename(columns={0:'Actors'}).loc[:, data.columns]"
      ],
      "execution_count": null,
      "outputs": []
    },
    {
      "cell_type": "code",
      "metadata": {
        "id": "N8LhtVOEgG1t",
        "colab": {
          "base_uri": "https://localhost:8080/",
          "height": 570
        },
        "outputId": "28e6af2d-e147-4c7b-cb79-0de4386b9c7e"
      },
      "source": [
        "data['Genre'] = data['Genre'].map(lambda x: replace_commas(x)) \n",
        "data['Director'] = data['Director'].map(lambda x: replace_commas(x))\n",
        "data['Actors'] = data['Actors'].map(lambda x: replace_commas(x)) \n",
        "data[\"Query\"] = data[\"Genre\"].str.cat(data[[\"Director\", \"Actors\"]].astype(str), sep=\" \")\n",
        "data"
      ],
      "execution_count": null,
      "outputs": [
        {
          "output_type": "execute_result",
          "data": {
            "text/html": [
              "<div>\n",
              "<style scoped>\n",
              "    .dataframe tbody tr th:only-of-type {\n",
              "        vertical-align: middle;\n",
              "    }\n",
              "\n",
              "    .dataframe tbody tr th {\n",
              "        vertical-align: top;\n",
              "    }\n",
              "\n",
              "    .dataframe thead th {\n",
              "        text-align: right;\n",
              "    }\n",
              "</style>\n",
              "<table border=\"1\" class=\"dataframe\">\n",
              "  <thead>\n",
              "    <tr style=\"text-align: right;\">\n",
              "      <th></th>\n",
              "      <th>Rank</th>\n",
              "      <th>Title</th>\n",
              "      <th>Genre</th>\n",
              "      <th>Director</th>\n",
              "      <th>Actors</th>\n",
              "      <th>Query</th>\n",
              "    </tr>\n",
              "  </thead>\n",
              "  <tbody>\n",
              "    <tr>\n",
              "      <th>0</th>\n",
              "      <td>1</td>\n",
              "      <td>Guardians of the Galaxy</td>\n",
              "      <td>Action Adventure SciFi</td>\n",
              "      <td>James Gunn</td>\n",
              "      <td>Chris Pratt  Vin Diesel  Bradley Cooper  Zoe S...</td>\n",
              "      <td>Action Adventure SciFi James Gunn Chris Pratt ...</td>\n",
              "    </tr>\n",
              "    <tr>\n",
              "      <th>1</th>\n",
              "      <td>2</td>\n",
              "      <td>Prometheus</td>\n",
              "      <td>Adventure Mystery SciFi</td>\n",
              "      <td>Ridley Scott</td>\n",
              "      <td>Noomi Rapace  Logan MarshallGreen  Michael Fas...</td>\n",
              "      <td>Adventure Mystery SciFi Ridley Scott Noomi Rap...</td>\n",
              "    </tr>\n",
              "    <tr>\n",
              "      <th>2</th>\n",
              "      <td>3</td>\n",
              "      <td>Split</td>\n",
              "      <td>Horror Thriller</td>\n",
              "      <td>M Night Shyamalan</td>\n",
              "      <td>James McAvoy  Anya TaylorJoy  Haley Lu Richard...</td>\n",
              "      <td>Horror Thriller M Night Shyamalan James McAvoy...</td>\n",
              "    </tr>\n",
              "    <tr>\n",
              "      <th>3</th>\n",
              "      <td>4</td>\n",
              "      <td>Sing</td>\n",
              "      <td>Animation Comedy Family</td>\n",
              "      <td>Christophe Lourdelet</td>\n",
              "      <td>Matthew McConaughey Reese Witherspoon  Seth Ma...</td>\n",
              "      <td>Animation Comedy Family Christophe Lourdelet M...</td>\n",
              "    </tr>\n",
              "    <tr>\n",
              "      <th>4</th>\n",
              "      <td>5</td>\n",
              "      <td>Suicide Squad</td>\n",
              "      <td>Action Adventure Fantasy</td>\n",
              "      <td>David Ayer</td>\n",
              "      <td>Will Smith  Jared Leto  Margot Robbie  Viola D...</td>\n",
              "      <td>Action Adventure Fantasy David Ayer Will Smith...</td>\n",
              "    </tr>\n",
              "    <tr>\n",
              "      <th>...</th>\n",
              "      <td>...</td>\n",
              "      <td>...</td>\n",
              "      <td>...</td>\n",
              "      <td>...</td>\n",
              "      <td>...</td>\n",
              "      <td>...</td>\n",
              "    </tr>\n",
              "    <tr>\n",
              "      <th>995</th>\n",
              "      <td>996</td>\n",
              "      <td>Secret in Their Eyes</td>\n",
              "      <td>Crime Drama Mystery</td>\n",
              "      <td>Billy Ray</td>\n",
              "      <td>Chiwetel Ejiofor  Nicole Kidman  Julia Roberts...</td>\n",
              "      <td>Crime Drama Mystery Billy Ray Chiwetel Ejiofor...</td>\n",
              "    </tr>\n",
              "    <tr>\n",
              "      <th>996</th>\n",
              "      <td>997</td>\n",
              "      <td>Hostel: Part II</td>\n",
              "      <td>Horror</td>\n",
              "      <td>Eli Roth</td>\n",
              "      <td>Lauren German  Heather Matarazzo  Bijou Philli...</td>\n",
              "      <td>Horror Eli Roth Lauren German  Heather Mataraz...</td>\n",
              "    </tr>\n",
              "    <tr>\n",
              "      <th>997</th>\n",
              "      <td>998</td>\n",
              "      <td>Step Up 2: The Streets</td>\n",
              "      <td>Drama Music Romance</td>\n",
              "      <td>Jon M Chu</td>\n",
              "      <td>Robert Hoffman  Briana Evigan  Cassie Ventura ...</td>\n",
              "      <td>Drama Music Romance Jon M Chu Robert Hoffman  ...</td>\n",
              "    </tr>\n",
              "    <tr>\n",
              "      <th>998</th>\n",
              "      <td>999</td>\n",
              "      <td>Search Party</td>\n",
              "      <td>Adventure Comedy</td>\n",
              "      <td>Scot Armstrong</td>\n",
              "      <td>Adam Pally  TJ Miller  Thomas Middleditch Shan...</td>\n",
              "      <td>Adventure Comedy Scot Armstrong Adam Pally  TJ...</td>\n",
              "    </tr>\n",
              "    <tr>\n",
              "      <th>999</th>\n",
              "      <td>1000</td>\n",
              "      <td>Nine Lives</td>\n",
              "      <td>Comedy Family Fantasy</td>\n",
              "      <td>Barry Sonnenfeld</td>\n",
              "      <td>Kevin Spacey  Jennifer Garner  Robbie Amell Ch...</td>\n",
              "      <td>Comedy Family Fantasy Barry Sonnenfeld Kevin S...</td>\n",
              "    </tr>\n",
              "  </tbody>\n",
              "</table>\n",
              "<p>1000 rows × 6 columns</p>\n",
              "</div>"
            ],
            "text/plain": [
              "     Rank  ...                                              Query\n",
              "0       1  ...  Action Adventure SciFi James Gunn Chris Pratt ...\n",
              "1       2  ...  Adventure Mystery SciFi Ridley Scott Noomi Rap...\n",
              "2       3  ...  Horror Thriller M Night Shyamalan James McAvoy...\n",
              "3       4  ...  Animation Comedy Family Christophe Lourdelet M...\n",
              "4       5  ...  Action Adventure Fantasy David Ayer Will Smith...\n",
              "..    ...  ...                                                ...\n",
              "995   996  ...  Crime Drama Mystery Billy Ray Chiwetel Ejiofor...\n",
              "996   997  ...  Horror Eli Roth Lauren German  Heather Mataraz...\n",
              "997   998  ...  Drama Music Romance Jon M Chu Robert Hoffman  ...\n",
              "998   999  ...  Adventure Comedy Scot Armstrong Adam Pally  TJ...\n",
              "999  1000  ...  Comedy Family Fantasy Barry Sonnenfeld Kevin S...\n",
              "\n",
              "[1000 rows x 6 columns]"
            ]
          },
          "metadata": {
            "tags": []
          },
          "execution_count": 11
        }
      ]
    },
    {
      "cell_type": "code",
      "metadata": {
        "colab": {
          "base_uri": "https://localhost:8080/"
        },
        "id": "i2LEPB5ItNic",
        "outputId": "8b85a353-7bdf-45cb-b172-5e0086bef373"
      },
      "source": [
        "data[data.Title == 'Jurassic World']['Query']"
      ],
      "execution_count": null,
      "outputs": [
        {
          "output_type": "execute_result",
          "data": {
            "text/plain": [
              "85    Action Adventure SciFi Colin Trevorrow Chris P...\n",
              "Name: Query, dtype: object"
            ]
          },
          "metadata": {
            "tags": []
          },
          "execution_count": 12
        }
      ]
    },
    {
      "cell_type": "code",
      "metadata": {
        "id": "b-nXXP2UgH9a"
      },
      "source": [
        "count_vector = CountVectorizer()\n",
        "count_matrix = count_vector.fit_transform(data[\"Query\"])\n",
        "similarity_scores = cosine_similarity(count_matrix)"
      ],
      "execution_count": null,
      "outputs": []
    },
    {
      "cell_type": "code",
      "metadata": {
        "colab": {
          "base_uri": "https://localhost:8080/"
        },
        "id": "5eVk_9D4wUqr",
        "outputId": "9b222fc5-471c-43df-f677-681690755ae2"
      },
      "source": [
        "len(similarity_scores)"
      ],
      "execution_count": null,
      "outputs": [
        {
          "output_type": "execute_result",
          "data": {
            "text/plain": [
              "1000"
            ]
          },
          "metadata": {
            "tags": []
          },
          "execution_count": 19
        }
      ]
    },
    {
      "cell_type": "code",
      "metadata": {
        "colab": {
          "base_uri": "https://localhost:8080/",
          "height": 47
        },
        "id": "A9qBkB3tzq8T",
        "outputId": "a73ab3bb-7d72-4b4a-aaed-381e4bf29b29"
      },
      "source": [
        "# data[data['Query'] == \"Sci-Fi Colin Trevorrow Bryce Dallas Howard\"]"
      ],
      "execution_count": null,
      "outputs": [
        {
          "output_type": "execute_result",
          "data": {
            "text/html": [
              "<div>\n",
              "<style scoped>\n",
              "    .dataframe tbody tr th:only-of-type {\n",
              "        vertical-align: middle;\n",
              "    }\n",
              "\n",
              "    .dataframe tbody tr th {\n",
              "        vertical-align: top;\n",
              "    }\n",
              "\n",
              "    .dataframe thead th {\n",
              "        text-align: right;\n",
              "    }\n",
              "</style>\n",
              "<table border=\"1\" class=\"dataframe\">\n",
              "  <thead>\n",
              "    <tr style=\"text-align: right;\">\n",
              "      <th></th>\n",
              "      <th>Rank</th>\n",
              "      <th>Title</th>\n",
              "      <th>Genre</th>\n",
              "      <th>Director</th>\n",
              "      <th>Actors</th>\n",
              "      <th>Query</th>\n",
              "    </tr>\n",
              "  </thead>\n",
              "  <tbody>\n",
              "  </tbody>\n",
              "</table>\n",
              "</div>"
            ],
            "text/plain": [
              "Empty DataFrame\n",
              "Columns: [Rank, Title, Genre, Director, Actors, Query]\n",
              "Index: []"
            ]
          },
          "metadata": {
            "tags": []
          },
          "execution_count": 24
        }
      ]
    },
    {
      "cell_type": "code",
      "metadata": {
        "id": "ucrS2gcUxY0S"
      },
      "source": [
        "# data[data.index == movie_index]"
      ],
      "execution_count": null,
      "outputs": []
    },
    {
      "cell_type": "code",
      "metadata": {
        "id": "bLo-GRuXxklh"
      },
      "source": [
        "# data[data.Title == 'Aliens vs Predator - Requiem']"
      ],
      "execution_count": null,
      "outputs": []
    },
    {
      "cell_type": "code",
      "metadata": {
        "id": "vl-x8fzniL0z"
      },
      "source": [
        "def get_title(index,data):\n",
        "    return data[data.index == index][\"Title\"].values[0]\n",
        "def get_index(title,data):\n",
        "    return data[data.Title == title].index[0]"
      ],
      "execution_count": null,
      "outputs": []
    },
    {
      "cell_type": "code",
      "metadata": {
        "colab": {
          "base_uri": "https://localhost:8080/"
        },
        "id": "Kq8ErpAry0_l",
        "outputId": "2f2c7433-0538-4060-b2f2-45f64cc52d09"
      },
      "source": [
        "movie_user_likes = \"Action Adventure SciFi Colin Trevorrow Chris\"\n",
        "movie_index = data[data.Query == movie_user_likes].index[0]\n",
        "data[data.index == movie_index]\n",
        "print(movie_index)\n",
        "similar_movies = list(enumerate(similarity_scores[movie_index])) \n",
        "sorted_similar_movies = sorted(similar_movies,key=lambda x:x[1],reverse=True)[1:]\n",
        "movies = set()\n",
        "for entry in sorted_similar_movies:\n",
        "  if entry[1] > 0.5:\n",
        "    movies.add(get_title(entry[0],data))\n",
        "print(movies)"
      ],
      "execution_count": null,
      "outputs": [
        {
          "output_type": "stream",
          "text": [
            "1618\n",
            "{'Aliens vs Predator - Requiem', 'Jurassic World'}\n"
          ],
          "name": "stdout"
        }
      ]
    },
    {
      "cell_type": "code",
      "metadata": {
        "colab": {
          "base_uri": "https://localhost:8080/"
        },
        "id": "y6I9joIjs0fH",
        "outputId": "9be9ec8e-13a6-4fc5-a56a-1afc651cf988"
      },
      "source": [
        "movie_user_likes = \"Furious 6\"\n",
        "movie_index = get_index(movie_user_likes,data)\n",
        "print(movie_index,data[data.index == movie_index])\n",
        "similar_movies = list(enumerate(similarity_scores[movie_index])) \n",
        "sorted_similar_movies = sorted(similar_movies,key=lambda x:x[1],reverse=True)[1:]\n",
        "movies = set()\n",
        "for entry in sorted_similar_movies:\n",
        "  if entry[1] > 0.4:\n",
        "    movies.add(get_title(entry[0],data))\n",
        "print(movies)"
      ],
      "execution_count": null,
      "outputs": [
        {
          "output_type": "stream",
          "text": [
            "340      Rank  ...                                              Query\n",
            "340   341  ...  Action Crime Thriller Justin Lin Vin Diesel  P...\n",
            "\n",
            "[1 rows x 6 columns]\n",
            "{'Fast Five', 'Furious Seven', 'Furious 6'}\n"
          ],
          "name": "stdout"
        }
      ]
    },
    {
      "cell_type": "code",
      "metadata": {
        "colab": {
          "base_uri": "https://localhost:8080/"
        },
        "id": "j6Lv2Dy8t06o",
        "outputId": "0b81e08b-538e-42c7-da13-658c1d405f8c"
      },
      "source": [
        ""
      ],
      "execution_count": null,
      "outputs": [
        {
          "output_type": "stream",
          "text": [
            "{'Furious Seven', 'Guardians of the Galaxy'}\n"
          ],
          "name": "stdout"
        }
      ]
    },
    {
      "cell_type": "code",
      "metadata": {
        "id": "S2G3FeKCuEsF"
      },
      "source": [
        ""
      ],
      "execution_count": null,
      "outputs": []
    }
  ]
}