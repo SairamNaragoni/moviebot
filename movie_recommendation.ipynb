{
  "nbformat": 4,
  "nbformat_minor": 0,
  "metadata": {
    "colab": {
      "name": "movie_recommendation.ipynb",
      "provenance": [],
      "collapsed_sections": [],
      "mount_file_id": "13hARbR2W7JzQtj4rybFp_t6WuESxitPB",
      "authorship_tag": "ABX9TyMmOSAPu9/cTdv9a6XDHUcy"
    },
    "kernelspec": {
      "name": "python3",
      "display_name": "Python 3"
    },
    "language_info": {
      "name": "python"
    }
  },
  "cells": [
    {
      "cell_type": "code",
      "metadata": {
        "id": "OqaKVDmVohfI"
      },
      "source": [
        "import pandas as pd\n",
        "from sklearn.feature_extraction.text import CountVectorizer\n",
        "from sklearn.metrics.pairwise import cosine_similarity"
      ],
      "execution_count": 60,
      "outputs": []
    },
    {
      "cell_type": "code",
      "metadata": {
        "id": "Tm3j_Wauoumr"
      },
      "source": [
        "# GDrive for GCollab\n",
        "file_path = 'drive/MyDrive/Colab Notebooks/moviedata.csv'\n",
        "root_path = 'drive/MyDrive/Colab Notebooks/'\n",
        "\n",
        "# Local File System\n",
        "# file_path = 'dataset/moviedata.csv'\n",
        "# root_path = 'dataset/'"
      ],
      "execution_count": 70,
      "outputs": []
    },
    {
      "cell_type": "code",
      "metadata": {
        "colab": {
          "base_uri": "https://localhost:8080/",
          "height": 195
        },
        "id": "mJABeSR4qKt2",
        "outputId": "299c2453-fea0-402a-c9b6-950b88ca0ca8"
      },
      "source": [
        "df = pd.read_csv(file_path)\n",
        "df = df[['Title','Genre','Director','Actors']]\n",
        "df = df.dropna()\n",
        "df = df.apply(lambda x: x.astype(str).str.lower())\n",
        "df.tail()"
      ],
      "execution_count": 62,
      "outputs": [
        {
          "output_type": "execute_result",
          "data": {
            "text/html": [
              "<div>\n",
              "<style scoped>\n",
              "    .dataframe tbody tr th:only-of-type {\n",
              "        vertical-align: middle;\n",
              "    }\n",
              "\n",
              "    .dataframe tbody tr th {\n",
              "        vertical-align: top;\n",
              "    }\n",
              "\n",
              "    .dataframe thead th {\n",
              "        text-align: right;\n",
              "    }\n",
              "</style>\n",
              "<table border=\"1\" class=\"dataframe\">\n",
              "  <thead>\n",
              "    <tr style=\"text-align: right;\">\n",
              "      <th></th>\n",
              "      <th>Title</th>\n",
              "      <th>Genre</th>\n",
              "      <th>Director</th>\n",
              "      <th>Actors</th>\n",
              "    </tr>\n",
              "  </thead>\n",
              "  <tbody>\n",
              "    <tr>\n",
              "      <th>995</th>\n",
              "      <td>secret in their eyes</td>\n",
              "      <td>crime,drama,mystery</td>\n",
              "      <td>billy ray</td>\n",
              "      <td>chiwetel ejiofor, nicole kidman, julia roberts...</td>\n",
              "    </tr>\n",
              "    <tr>\n",
              "      <th>996</th>\n",
              "      <td>hostel: part ii</td>\n",
              "      <td>horror</td>\n",
              "      <td>eli roth</td>\n",
              "      <td>lauren german, heather matarazzo, bijou philli...</td>\n",
              "    </tr>\n",
              "    <tr>\n",
              "      <th>997</th>\n",
              "      <td>step up 2: the streets</td>\n",
              "      <td>drama,music,romance</td>\n",
              "      <td>jon m. chu</td>\n",
              "      <td>robert hoffman, briana evigan, cassie ventura,...</td>\n",
              "    </tr>\n",
              "    <tr>\n",
              "      <th>998</th>\n",
              "      <td>search party</td>\n",
              "      <td>adventure,comedy</td>\n",
              "      <td>scot armstrong</td>\n",
              "      <td>adam pally, t.j. miller, thomas middleditch,sh...</td>\n",
              "    </tr>\n",
              "    <tr>\n",
              "      <th>999</th>\n",
              "      <td>nine lives</td>\n",
              "      <td>comedy,family,fantasy</td>\n",
              "      <td>barry sonnenfeld</td>\n",
              "      <td>kevin spacey, jennifer garner, robbie amell,ch...</td>\n",
              "    </tr>\n",
              "  </tbody>\n",
              "</table>\n",
              "</div>"
            ],
            "text/plain": [
              "                      Title  ...                                             Actors\n",
              "995    secret in their eyes  ...  chiwetel ejiofor, nicole kidman, julia roberts...\n",
              "996         hostel: part ii  ...  lauren german, heather matarazzo, bijou philli...\n",
              "997  step up 2: the streets  ...  robert hoffman, briana evigan, cassie ventura,...\n",
              "998            search party  ...  adam pally, t.j. miller, thomas middleditch,sh...\n",
              "999              nine lives  ...  kevin spacey, jennifer garner, robbie amell,ch...\n",
              "\n",
              "[5 rows x 4 columns]"
            ]
          },
          "metadata": {
            "tags": []
          },
          "execution_count": 62
        }
      ]
    },
    {
      "cell_type": "code",
      "metadata": {
        "colab": {
          "base_uri": "https://localhost:8080/"
        },
        "id": "m4rMFWsUpunf",
        "outputId": "d887ec03-cbd7-48b2-b153-40fd66211e77"
      },
      "source": [
        "genres = set()\n",
        "directors = set()\n",
        "actors = set()\n",
        "for index, row in df.iterrows():\n",
        "  entry = row['Genre']\n",
        "  for e in entry.split(','):\n",
        "    genres.add(e.strip())\n",
        "\n",
        "  entry = row['Director']\n",
        "  for e in entry.split(','):\n",
        "    directors.add(e.strip())\n",
        "    \n",
        "  entry = row['Actors']\n",
        "  for e in entry.split(','):\n",
        "    actors.add(e.strip())\n",
        "\n",
        "genres_list = list(genres)\n",
        "directors_list = list(directors)\n",
        "actors_list = list(actors)\n",
        "\n",
        "print(\"Found %d genres\"%len(genres_list))\n",
        "print(\"Found %d directors\"%len(directors_list))\n",
        "print(\"Found %d actors\"%len(actors_list))"
      ],
      "execution_count": 63,
      "outputs": [
        {
          "output_type": "stream",
          "text": [
            "Found 20 genres\n",
            "Found 644 directors\n",
            "Found 1985 actors\n"
          ],
          "name": "stdout"
        }
      ]
    },
    {
      "cell_type": "code",
      "metadata": {
        "colab": {
          "base_uri": "https://localhost:8080/",
          "height": 195
        },
        "id": "WxNVrl53p-dN",
        "outputId": "3c797474-5481-4a99-e541-b35662ce988a"
      },
      "source": [
        "data = df.copy()\n",
        "data=data.set_index(data.columns.drop('Genre',1).tolist()).Genre.str.split(',', expand=True).stack().reset_index().rename(columns={0:'Genre'}).loc[:, data.columns]\n",
        "data=data.set_index(data.columns.drop('Director',1).tolist()).Director.str.split(',', expand=True).stack().reset_index().rename(columns={0:'Director'}).loc[:, data.columns]\n",
        "data=data.set_index(data.columns.drop('Actors',1).tolist()).Actors.str.split(',', expand=True).stack().reset_index().rename(columns={0:'Actors'}).loc[:, data.columns]\n",
        "data['Query'] = data['Genre'].str.cat(data[['Director','Actors']].astype(str), sep=\" \")\n",
        "data.tail()"
      ],
      "execution_count": 64,
      "outputs": [
        {
          "output_type": "execute_result",
          "data": {
            "text/html": [
              "<div>\n",
              "<style scoped>\n",
              "    .dataframe tbody tr th:only-of-type {\n",
              "        vertical-align: middle;\n",
              "    }\n",
              "\n",
              "    .dataframe tbody tr th {\n",
              "        vertical-align: top;\n",
              "    }\n",
              "\n",
              "    .dataframe thead th {\n",
              "        text-align: right;\n",
              "    }\n",
              "</style>\n",
              "<table border=\"1\" class=\"dataframe\">\n",
              "  <thead>\n",
              "    <tr style=\"text-align: right;\">\n",
              "      <th></th>\n",
              "      <th>Title</th>\n",
              "      <th>Genre</th>\n",
              "      <th>Director</th>\n",
              "      <th>Actors</th>\n",
              "      <th>Query</th>\n",
              "    </tr>\n",
              "  </thead>\n",
              "  <tbody>\n",
              "    <tr>\n",
              "      <th>10213</th>\n",
              "      <td>nine lives</td>\n",
              "      <td>family</td>\n",
              "      <td>barry sonnenfeld</td>\n",
              "      <td>cheryl hines</td>\n",
              "      <td>family barry sonnenfeld cheryl hines</td>\n",
              "    </tr>\n",
              "    <tr>\n",
              "      <th>10214</th>\n",
              "      <td>nine lives</td>\n",
              "      <td>fantasy</td>\n",
              "      <td>barry sonnenfeld</td>\n",
              "      <td>kevin spacey</td>\n",
              "      <td>fantasy barry sonnenfeld kevin spacey</td>\n",
              "    </tr>\n",
              "    <tr>\n",
              "      <th>10215</th>\n",
              "      <td>nine lives</td>\n",
              "      <td>fantasy</td>\n",
              "      <td>barry sonnenfeld</td>\n",
              "      <td>jennifer garner</td>\n",
              "      <td>fantasy barry sonnenfeld  jennifer garner</td>\n",
              "    </tr>\n",
              "    <tr>\n",
              "      <th>10216</th>\n",
              "      <td>nine lives</td>\n",
              "      <td>fantasy</td>\n",
              "      <td>barry sonnenfeld</td>\n",
              "      <td>robbie amell</td>\n",
              "      <td>fantasy barry sonnenfeld  robbie amell</td>\n",
              "    </tr>\n",
              "    <tr>\n",
              "      <th>10217</th>\n",
              "      <td>nine lives</td>\n",
              "      <td>fantasy</td>\n",
              "      <td>barry sonnenfeld</td>\n",
              "      <td>cheryl hines</td>\n",
              "      <td>fantasy barry sonnenfeld cheryl hines</td>\n",
              "    </tr>\n",
              "  </tbody>\n",
              "</table>\n",
              "</div>"
            ],
            "text/plain": [
              "            Title  ...                                      Query\n",
              "10213  nine lives  ...       family barry sonnenfeld cheryl hines\n",
              "10214  nine lives  ...      fantasy barry sonnenfeld kevin spacey\n",
              "10215  nine lives  ...  fantasy barry sonnenfeld  jennifer garner\n",
              "10216  nine lives  ...     fantasy barry sonnenfeld  robbie amell\n",
              "10217  nine lives  ...      fantasy barry sonnenfeld cheryl hines\n",
              "\n",
              "[5 rows x 5 columns]"
            ]
          },
          "metadata": {
            "tags": []
          },
          "execution_count": 64
        }
      ]
    },
    {
      "cell_type": "code",
      "metadata": {
        "id": "D7ZkwTNdq_gK"
      },
      "source": [
        "data.to_csv(root_path+\"movie_data_split.csv\")"
      ],
      "execution_count": 65,
      "outputs": []
    },
    {
      "cell_type": "code",
      "metadata": {
        "colab": {
          "base_uri": "https://localhost:8080/",
          "height": 35
        },
        "id": "Vb6ra589r0lU",
        "outputId": "01503f12-589a-4fd5-ab34-99caef42273c"
      },
      "source": [
        "user_query = \"Action James Gunn  Vin Diesel\"\n",
        "user_query"
      ],
      "execution_count": 66,
      "outputs": [
        {
          "output_type": "execute_result",
          "data": {
            "application/vnd.google.colaboratory.intrinsic+json": {
              "type": "string"
            },
            "text/plain": [
              "'Action James Gunn  Vin Diesel'"
            ]
          },
          "metadata": {
            "tags": []
          },
          "execution_count": 66
        }
      ]
    },
    {
      "cell_type": "code",
      "metadata": {
        "id": "f1K9xhC_rohb"
      },
      "source": [
        "count_vector = CountVectorizer()\n",
        "queries = data['Query'].tolist()\n",
        "queries.append(user_query)\n",
        "count_matrix = count_vector.fit_transform(queries)\n",
        "similarity_scores = cosine_similarity(count_matrix)"
      ],
      "execution_count": 67,
      "outputs": []
    },
    {
      "cell_type": "code",
      "metadata": {
        "id": "kE_VZeQOsbyh"
      },
      "source": [
        "def get_title(index,data):\n",
        "  return data[data.index == index]['Title'].values[0]\n",
        "\n",
        "def get_index(title,data):\n",
        "  return data[data.Title == title].index[0]"
      ],
      "execution_count": 68,
      "outputs": []
    },
    {
      "cell_type": "code",
      "metadata": {
        "colab": {
          "base_uri": "https://localhost:8080/"
        },
        "id": "G0SmDyn4s7B4",
        "outputId": "822007b6-318b-403b-aeea-9ebcc6f91f21"
      },
      "source": [
        "movie_index = len(similarity_scores)-1\n",
        "similar_movies = list(enumerate(similarity_scores[movie_index][:-1]))\n",
        "sorted_similar_movies = sorted(similar_movies, key=lambda x:x[1],reverse=True)\n",
        "movies = set()\n",
        "for entry in sorted_similar_movies:\n",
        "  if entry[1] > 0.7:\n",
        "    movies.add(get_title(entry[0],data))\n",
        "print(movies)"
      ],
      "execution_count": 69,
      "outputs": [
        {
          "output_type": "stream",
          "text": [
            "{'guardians of the galaxy', 'furious seven'}\n"
          ],
          "name": "stdout"
        }
      ]
    },
    {
      "cell_type": "code",
      "metadata": {
        "id": "ac1kcV7ltgCg"
      },
      "source": [
        ""
      ],
      "execution_count": null,
      "outputs": []
    }
  ]
}